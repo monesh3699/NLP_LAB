{
 "cells": [
  {
   "cell_type": "code",
   "execution_count": 3,
   "metadata": {},
   "outputs": [
    {
     "name": "stdout",
     "output_type": "stream",
     "text": [
      "0.6\n"
     ]
    }
   ],
   "source": [
    "import nltk\n",
    "from nltk.metrics import *\n",
    "X=set([10,20,30,40])\n",
    "Y=set([20,30,60])\n",
    "print(jaccard_distance(X,Y))"
   ]
  },
  {
   "cell_type": "code",
   "execution_count": 2,
   "metadata": {},
   "outputs": [
    {
     "name": "stdout",
     "output_type": "stream",
     "text": [
      "{'NLP', 'Python', 'We', 'using', 'learning', 'are'}\n",
      "{'NLP', 'Python', 'We', 'using', 'learning', 'are'}\n",
      "0.0\n",
      "{'NLP', 'Python', 'We', 'using', 'learning', 'are'}\n",
      "{'simple', 'NLP', 'Python', 'under', 'is'}\n",
      "0.7777777777777778\n",
      "{'NLP', 'Python', 'We', 'using', 'learning', 'are'}\n",
      "{'People', 'for', 'NLP', 'Python', 'using', 'are', 'chatbot', 'in'}\n",
      "0.6\n"
     ]
    }
   ],
   "source": [
    "#Text similarity measurement without text preprocessing\n",
    "import nltk\n",
    "from nltk.metrics import *\n",
    "from nltk.tokenize import word_tokenize\n",
    "\n",
    "s1=\"We are learning NLP using Python\"\n",
    "s2=\"We are learning NLP using Python\"\n",
    "s3=\"NLP under Python is simple\"\n",
    "s4=\"People are using NLP in Python for chatbot\"\n",
    "s1=set(word_tokenize(s1))\n",
    "s2=set(word_tokenize(s2))\n",
    "s3=set(word_tokenize(s3))\n",
    "s4=set(word_tokenize(s4))\n",
    "print(s1)\n",
    "print(s2)\n",
    "print(jaccard_distance(s1,s2))\n",
    "print(s1)\n",
    "print(s3)\n",
    "print(jaccard_distance(s1,s3))\n",
    "print(s1)\n",
    "print(s4)\n",
    "print(jaccard_distance(s1,s4))"
   ]
  },
  {
   "cell_type": "code",
   "execution_count": 17,
   "metadata": {},
   "outputs": [
    {
     "name": "stdout",
     "output_type": "stream",
     "text": [
      "[nltk_data] Downloading package wordnet to\n",
      "[nltk_data]     C:\\Users\\Universal\\AppData\\Roaming\\nltk_data...\n",
      "[nltk_data]   Package wordnet is already up-to-date!\n",
      "{'we', 'be', 'python', 'nlp', 'learn', 'use'}\n",
      "{'we', 'be', 'python', 'nlp', 'learn', 'use'}\n",
      "0.0\n",
      "{'we', 'be', 'python', 'nlp', 'learn', 'use'}\n",
      "{'simple', 'python', 'nlp', 'be', 'under'}\n",
      "0.625\n",
      "{'we', 'be', 'python', 'nlp', 'learn', 'use'}\n",
      "{'be', 'python', 'for', 'nlp', 'people', 'use', 'chatbot', 'in'}\n",
      "0.6\n"
     ]
    }
   ],
   "source": [
    "#Text similarity measurement with text preprocessing\n",
    "import nltk\n",
    "import re\n",
    "import string\n",
    "from nltk.metrics import *\n",
    "from nltk import sent_tokenize\n",
    "from nltk.tokenize import word_tokenize\n",
    "from nltk.corpus import stopwords\n",
    "nltk.download('wordnet')\n",
    "from nltk.stem import WordNetLemmatizer\n",
    "def text_preprocess(text):\n",
    "    text=text.lower()\n",
    "    text = re.sub(r'\\d+', '', text)\n",
    "    translator = str.maketrans('', '', string.punctuation) \n",
    "    text = text.replace('-', ' ')\n",
    "    text=text.translate(translator)\n",
    "    text=set(word_tokenize(text))\n",
    "    lemmatizer=WordNetLemmatizer()\n",
    "    text = [lemmatizer.lemmatize(w) for w in text]\n",
    "    #print(\"After Lemmatizing on Noun -->\",lemmatized_output)\n",
    "    #lemmatized_output=word_tokenize(lemmatized_output)\n",
    "    text = [lemmatizer.lemmatize(w,'v') for w in text]\n",
    "    return set(text)\n",
    "\n",
    "s1=text_preprocess(\"We are learning NLP using Python\")\n",
    "s2=s1\n",
    "s3=text_preprocess(\"NLP under Python is simple\")\n",
    "s4=text_preprocess(\"People are using NLP in Python for chatbot\")\n",
    "print(s1)\n",
    "print(s2)\n",
    "print(jaccard_distance(s1,s2))\n",
    "print(s1)\n",
    "print(s3)\n",
    "print(jaccard_distance(s1,s3))\n",
    "print(s1)\n",
    "print(s4)\n",
    "print(jaccard_distance(s1,s4))\n",
    "\n",
    "\n"
   ]
  },
  {
   "cell_type": "code",
   "execution_count": 1,
   "metadata": {},
   "outputs": [
    {
     "name": "stdout",
     "output_type": "stream",
     "text": [
      "The two words edit_distance is:7\n"
     ]
    }
   ],
   "source": [
    "#Use edit distance for similarity measurement\n",
    "import nltk\n",
    "from nltk.metrics import edit_distance\n",
    "e_d=edit_distance(\"machine_learning\",\"deep_learning\")\n",
    "print(\"The two words edit_distance is:\"+str(e_d))"
   ]
  },
  {
   "cell_type": "code",
   "execution_count": null,
   "metadata": {},
   "outputs": [],
   "source": []
  }
 ],
 "metadata": {
  "kernelspec": {
   "display_name": "Python 3",
   "language": "python",
   "name": "python3"
  },
  "language_info": {
   "codemirror_mode": {
    "name": "ipython",
    "version": 3
   },
   "file_extension": ".py",
   "mimetype": "text/x-python",
   "name": "python",
   "nbconvert_exporter": "python",
   "pygments_lexer": "ipython3",
   "version": "3.6.3"
  }
 },
 "nbformat": 4,
 "nbformat_minor": 2
}
