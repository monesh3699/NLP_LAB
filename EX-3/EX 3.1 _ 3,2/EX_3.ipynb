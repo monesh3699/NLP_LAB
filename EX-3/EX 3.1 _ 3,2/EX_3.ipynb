{
 "cells": [
  {
   "cell_type": "code",
   "execution_count": 19,
   "metadata": {
    "scrolled": true
   },
   "outputs": [
    {
     "name": "stdout",
     "output_type": "stream",
     "text": [
      "The File contents\n",
      "The last decade has seen a substantial surge in the use of finite-state methods in many areas of natural-language processing. This is a remarkable comeback considering that in the dawn of modern linguistics, finite-state grammars were dismissed as fundamentally inadequate. Noam Chomsky's seminal 1957 work, Syntactic Structures [3], includes a short chapter devoted to ``finite state Markov processes'', devices that we now would call weighted finite-state automata. \n",
      "In this section Chomsky demonstrates in a few paragraphs that English is not a finite state language. (p. 21)\n",
      "\n",
      "After Sentence Segmentaton \n",
      " ['The last decade has seen a substantial surge in the use of finite-state methods in many areas of natural-language processing.', 'This is a remarkable comeback considering that in the dawn of modern linguistics, finite-state grammars were dismissed as fundamentally inadequate.', \"Noam Chomsky's seminal 1957 work, Syntactic Structures [3], includes a short chapter devoted to ``finite state Markov processes'', devices that we now would call weighted finite-state automata.\", 'In this section Chomsky demonstrates in a few paragraphs that English is not a finite state language.', '(p. 21)']\n",
      "------------------------------------------------\n",
      "After converting to Lower cases\n",
      "the last decade has seen a substantial surge in the use of finite-state methods in many areas of natural-language processing. this is a remarkable comeback considering that in the dawn of modern linguistics, finite-state grammars were dismissed as fundamentally inadequate. noam chomsky's seminal 1957 work, syntactic structures [3], includes a short chapter devoted to ``finite state markov processes'', devices that we now would call weighted finite-state automata. \n",
      "in this section chomsky demonstrates in a few paragraphs that english is not a finite state language. (p. 21)\n",
      "\n",
      "------------------------------------------------\n",
      "After removal of Numbers\n",
      "the last decade has seen a substantial surge in the use of finite-state methods in many areas of natural-language processing. this is a remarkable comeback considering that in the dawn of modern linguistics, finite-state grammars were dismissed as fundamentally inadequate. noam chomsky's seminal  work, syntactic structures [], includes a short chapter devoted to ``finite state markov processes'', devices that we now would call weighted finite-state automata. \n",
      "in this section chomsky demonstrates in a few paragraphs that english is not a finite state language. (p. )\n",
      "\n",
      "------------------------------------------------\n",
      "After Punctuation removal\n",
      "the last decade has seen a substantial surge in the use of finite state methods in many areas of natural language processing this is a remarkable comeback considering that in the dawn of modern linguistics finite state grammars were dismissed as fundamentally inadequate noam chomskys seminal  work syntactic structures  includes a short chapter devoted to finite state markov processes devices that we now would call weighted finite state automata \n",
      "in this section chomsky demonstrates in a few paragraphs that english is not a finite state language p \n",
      "\n",
      "------------------------------------------------\n",
      "After Word Tokenization\n",
      "['the', 'last', 'decade', 'has', 'seen', 'a', 'substantial', 'surge', 'in', 'the', 'use', 'of', 'finite', 'state', 'methods', 'in', 'many', 'areas', 'of', 'natural', 'language', 'processing', 'this', 'is', 'a', 'remarkable', 'comeback', 'considering', 'that', 'in', 'the', 'dawn', 'of', 'modern', 'linguistics', 'finite', 'state', 'grammars', 'were', 'dismissed', 'as', 'fundamentally', 'inadequate', 'noam', 'chomskys', 'seminal', 'work', 'syntactic', 'structures', 'includes', 'a', 'short', 'chapter', 'devoted', 'to', 'finite', 'state', 'markov', 'processes', 'devices', 'that', 'we', 'now', 'would', 'call', 'weighted', 'finite', 'state', 'automata', 'in', 'this', 'section', 'chomsky', 'demonstrates', 'in', 'a', 'few', 'paragraphs', 'that', 'english', 'is', 'not', 'a', 'finite', 'state', 'language', 'p']\n",
      "------------------------------------------------\n",
      "After Lemmatizing \n",
      "['the', 'last', 'decade', 'ha', 'see', 'a', 'substantial', 'surge', 'in', 'the', 'use', 'of', 'finite', 'state', 'method', 'in', 'many', 'area', 'of', 'natural', 'language', 'process', 'this', 'be', 'a', 'remarkable', 'comeback', 'consider', 'that', 'in', 'the', 'dawn', 'of', 'modern', 'linguistics', 'finite', 'state', 'grammar', 'be', 'dismiss', 'a', 'fundamentally', 'inadequate', 'noam', 'chomsky', 'seminal', 'work', 'syntactic', 'structure', 'include', 'a', 'short', 'chapter', 'devote', 'to', 'finite', 'state', 'markov', 'process', 'device', 'that', 'we', 'now', 'would', 'call', 'weight', 'finite', 'state', 'automaton', 'in', 'this', 'section', 'chomsky', 'demonstrate', 'in', 'a', 'few', 'paragraph', 'that', 'english', 'be', 'not', 'a', 'finite', 'state', 'language', 'p']\n",
      "------------------------------------------------\n"
     ]
    },
    {
     "name": "stderr",
     "output_type": "stream",
     "text": [
      "[nltk_data] Error loading wordnet: <urlopen error [Errno 11001]\n",
      "[nltk_data]     getaddrinfo failed>\n"
     ]
    }
   ],
   "source": [
    "#Excerise 1\n",
    "import nltk\n",
    "import re\n",
    "import string\n",
    "from nltk import sent_tokenize\n",
    "from nltk.tokenize import word_tokenize\n",
    "from nltk.corpus import stopwords\n",
    "from nltk import pos_tag\n",
    "nltk.download('wordnet')\n",
    "from nltk.stem import WordNetLemmatizer\n",
    "#text='He is interested to visit Bangalore on 7th June 2021'\n",
    "#text=\"Robert was a good king. He had a great army. He wanted to bring peace to his kingdom. There were many others who wanted to become king. They started plotting against him. Their plots were failing because of some trusted friends of the king\"\n",
    "#text=\"Modern definitions of what it means to create intelligence are more specific. Francois Chollet, AI researcher at Google and creator of the machine-learning software library Keras, has said intelligence is tied to a system's ability to adapt and improvise in a new environment, to generalise its knowledge and apply it to unfamiliar scenarios\"\n",
    "#text=\"Pick the birthday pictures for the process\"\n",
    "file = open(\"input_text.txt\",\"rt\")\n",
    "#file = open(\"input_1.txt\",\"rt\")\n",
    "text=file.read()\n",
    "file.close()\n",
    "print(\"The File contents\")\n",
    "print(text)\n",
    "\n",
    "#-------------------------------------------------\n",
    "sentences = sent_tokenize(text) \n",
    "print(\"After Sentence Segmentaton \\n\",sentences)\n",
    "#text=sentences\n",
    "print(\"------------------------------------------------\")\n",
    "#-------------------------------------------------\n",
    "\n",
    "\n",
    "#----------------------------------------------------\n",
    "text=text.lower()\n",
    "print(\"After converting to Lower cases\")\n",
    "print(text)\n",
    "print(\"------------------------------------------------\")\n",
    "#---------------------------------------------------\n",
    "\n",
    "\n",
    "num_remo = re.sub(r'\\d+', '', text)\n",
    "print(\"After removal of Numbers\")\n",
    "print(num_remo)\n",
    "print(\"------------------------------------------------\")\n",
    "#-------------------------------------------------\n",
    "\n",
    "\n",
    "translator = str.maketrans('', '', string.punctuation) \n",
    "text = num_remo.replace('-', ' ')\n",
    "pun_rem=text.translate(translator)\n",
    "print(\"After Punctuation removal\")\n",
    "print(pun_rem)\n",
    "print(\"------------------------------------------------\")\n",
    "\n",
    "#tokens=word_tokenize(pun_rem)\n",
    "tokens=word_tokenize(pun_rem)\n",
    "print(\"After Word Tokenization\")\n",
    "print(tokens)\n",
    "text=tokens\n",
    "print(\"------------------------------------------------\")\n",
    "\n",
    "\n",
    "\n",
    "#--------------------------------------------------\n",
    "lemmatizer=WordNetLemmatizer()\n",
    "lemmatized_output = ' '.join([lemmatizer.lemmatize(w) for w in tokens])\n",
    "#print(\"After Lemmatizing on Noun -->\",lemmatized_output)\n",
    "lemmatized_output=word_tokenize(lemmatized_output)\n",
    "lemmatized_output_1 = [lemmatizer.lemmatize(w,'v') for w in lemmatized_output]\n",
    "print(\"After Lemmatizing \")\n",
    "print(lemmatized_output_1)\n",
    "print(\"------------------------------------------------\")\n",
    "text=lemmatized_output_1\n",
    "\n"
   ]
  },
  {
   "cell_type": "code",
   "execution_count": 20,
   "metadata": {},
   "outputs": [
    {
     "name": "stderr",
     "output_type": "stream",
     "text": [
      "[nltk_data] Error loading webtext: <urlopen error [Errno 11001]\n",
      "[nltk_data]     getaddrinfo failed>\n"
     ]
    },
    {
     "name": "stdout",
     "output_type": "stream",
     "text": [
      "a -> 6; area -> 1; automaton -> 1; be -> 3; call -> 1; chapter -> 1; chomsky -> 2; comeback -> 1; consider -> 1; dawn -> 1; decade -> 1; demonstrate -> 1; device -> 1; devote -> 1; dismiss -> 1; english -> 1; few -> 1; finite -> 5; fundamentally -> 1; grammar -> 1; ha -> 1; in -> 5; inadequate -> 1; include -> 1; language -> 2; last -> 1; linguistics -> 1; many -> 1; markov -> 1; method -> 1; modern -> 1; natural -> 1; noam -> 1; not -> 1; now -> 1; of -> 3; p -> 1; paragraph -> 1; process -> 2; remarkable -> 1; section -> 1; see -> 1; seminal -> 1; short -> 1; state -> 5; structure -> 1; substantial -> 1; surge -> 1; syntactic -> 1; that -> 3; the -> 3; this -> 2; to -> 1; use -> 1; we -> 1; weight -> 1; work -> 1; would -> 1; \n",
      "\n",
      "Total no of words in the document --> 58\n",
      "\n",
      "\n",
      "Word Frequency for the pre processed text\n"
     ]
    },
    {
     "data": {
      "image/png": "[encoded data removed]",
      "text/plain": [
       "<matplotlib.figure.Figure at 0x2e4f974390>"
      ]
     },
     "metadata": {},
     "output_type": "display_data"
    },
    {
     "name": "stdout",
     "output_type": "stream",
     "text": [
      "Word Frequency >= 2\n",
      "a: 6\n",
      "be: 3\n",
      "chomsky: 2\n",
      "finite: 5\n",
      "in: 5\n",
      "language: 2\n",
      "of: 3\n",
      "process: 2\n",
      "state: 5\n",
      "that: 3\n",
      "the: 3\n",
      "this: 2\n"
     ]
    },
    {
     "data": {
      "image/png": "[encoded data removed]",
      "text/plain": [
       "<matplotlib.figure.Figure at 0x2e4f9c47f0>"
      ]
     },
     "metadata": {},
     "output_type": "display_data"
    },
    {
     "data": {
      "text/plain": [
       "<matplotlib.axes._subplots.AxesSubplot at 0x2e4f9569b0>"
      ]
     },
     "execution_count": 20,
     "metadata": {},
     "output_type": "execute_result"
    }
   ],
   "source": [
    "#Excerise 3\n",
    "#word Frequency calculation\n",
    "import nltk\n",
    "from nltk.corpus import webtext\n",
    "from nltk.probability import FreqDist\n",
    "from nltk.tokenize import word_tokenize \n",
    "nltk.download('webtext')\n",
    "\n",
    "filtered_sentence=text\n",
    "#Total number of words in the given text document\n",
    "data_analysis = nltk.FreqDist(filtered_sentence)\n",
    "for word in sorted(data_analysis):\n",
    "     print(word, '->', data_analysis[word], end='; ')\n",
    "print(\"\\n\\nTotal no of words in the document -->\",len(data_analysis))\n",
    "\n",
    "#data_analysis = nltk.FreqDist(filtered_sentence)\n",
    "print(\"\\n\\nWord Frequency for the pre processed text\")\n",
    "data_analysis.plot(25, cumulative=False)\n",
    " \n",
    "# Let's take the specific words only if their frequency is greater than or equal to 2.\n",
    "filter_words = dict([(m, n) for m, n in data_analysis.items() if n >= 2])\n",
    "\n",
    "print(\"Word Frequency >= 2\")\n",
    "for key in sorted(filter_words):\n",
    "    print(\"%s: %s\" % (key, filter_words[key]))\n",
    "data_analysis = nltk.FreqDist(filter_words)\n",
    "data_analysis.plot(25, cumulative=False)"
   ]
  },
  {
   "cell_type": "code",
   "execution_count": null,
   "metadata": {},
   "outputs": [],
   "source": []
  },
  {
   "cell_type": "code",
   "execution_count": null,
   "metadata": {},
   "outputs": [],
   "source": []
  },
  {
   "cell_type": "code",
   "execution_count": null,
   "metadata": {},
   "outputs": [],
   "source": []
  },
  {
   "cell_type": "code",
   "execution_count": 2,
   "metadata": {},
   "outputs": [
    {
     "name": "stdout",
     "output_type": "stream",
     "text": [
      "The File contents\n",
      "The last decade has seen a substantial surge in the use of finite-state methods in many areas of natural-language processing. This is a remarkable comeback considering that in the dawn of modern linguistics, finite-state grammars were dismissed as fundamentally inadequate. Noam Chomsky's seminal 1957 work, Syntactic Structures [3], includes a short chapter devoted to ``finite state Markov processes'', devices that we now would call weighted finite-state automata. \n",
      "In this section Chomsky demonstrates in a few paragraphs that English is not a finite state language. (p. 21)\n",
      "\n",
      "------------------------------------------------\n",
      "Tokens\n",
      "['he', 'is', 'interested', 'to', 'visit', 'bangalore', 'on', 'th', 'june']\n",
      "------------------------------------------------\n"
     ]
    }
   ],
   "source": [
    "import nltk\n",
    "import string\n",
    "from nltk.tokenize import word_tokenize\n",
    "\n",
    "#Open the text file to apply the text preprocessing\n",
    "file = open(\"input_text.txt\",\"rt\")\n",
    "text=file.read()\n",
    "file.close()\n",
    "print(\"The File contents\")\n",
    "print(text)\n",
    "\n",
    "print(\"------------------------------------------------\")\n",
    "\n",
    "tokens=word_tokenize(pun_rem)\n",
    "print(\"Tokens\")\n",
    "print(tokens)\n",
    "print(\"------------------------------------------------\")\n"
   ]
  },
  {
   "cell_type": "code",
   "execution_count": null,
   "metadata": {},
   "outputs": [],
   "source": [
    "#print(\"original Text\")\n",
    "#for x in text:\n",
    "#    print(x)\n",
    "#----------------------------------    \n",
    "'''\n",
    "#translator = str.maketrans('', '', string.punctuation)\n",
    "translator = str.maketrans(dict.fromkeys(string.punctuation))\n",
    "pun_rem=[]\n",
    "for x in text:\n",
    "    temp=x.translate(translator)\n",
    "    pun_rem.append(temp)\n",
    "print(\"After Removal of Punctuations --> \\n\",pun_rem)\n",
    "#---------------------------------- '''\n",
    "# split into words\n",
    "from nltk.tokenize import word_tokenize\n",
    "sentence_tokenizer=nltk.data.load('tokenizers/punkt/english.pickle')\n",
    "sen_res=[]\n",
    "for x in text:\n",
    "    result=' '.join([sentence_tokenizer.tokenize(x) for w in x])\n",
    "    sen_res.append(result)\n",
    "print(\"Sentence Tokenizer --> \",sen_res)    \n",
    "\n",
    "tok_res=[]\n",
    "for x in sen_res:\n",
    "    tokens =' '.join([word_tokenize(x) for w in x]) \n",
    "    tok_res.append(tokens)\n",
    "# remove all tokens that are not alphabetic\n",
    "words = [word for word in tok_res if word.isalpha()]\n",
    "print(\"After Removal of Punctuations -->\",words)\n",
    "#---------------------------------------------------\n",
    "sen_res=[]\n",
    "for x in pun_rem:\n",
    "    sentence_tokenizer=nltk.data.load('tokenizers/punkt/english.pickle')\n",
    "    temp = sentence_tokenizer.tokenize(x)\n",
    "    sen_res.append(x)\n",
    "print()\n",
    "print(\"After Sentence segmentation -->\")\n",
    "print(sen_res)\n",
    "\n",
    "#---------------------------------------\n",
    "num_res=[]\n",
    "for x in sen_res:\n",
    "    temp = re.sub(r'\\d+', '', x)\n",
    "    num_res.append(temp)\n",
    "print(\"After removing the numbers -->\\n\",num_res)\n"
   ]
  },
  {
   "cell_type": "code",
   "execution_count": 5,
   "metadata": {},
   "outputs": [
    {
     "name": "stdout",
     "output_type": "stream",
     "text": [
      "After Removal of Punctuations --> \n",
      " ['The last decade has seen a substantial surge in the use of finitestate methods in many areas of naturallanguage processing This is a remarkable comeback considering that in the dawn of modern linguistics finitestate grammars were dismissed as fundamentally inadequate Noam Chomskys seminal  work Syntactic Structures  includes a short chapter devoted to finite state Markov processes devices that we now would call weighted finitestate automata \\n', 'In this section Chomsky demonstrates in a few paragraphs that English is not a finite state language p \\n']\n"
     ]
    }
   ],
   "source": [
    "import string\n",
    "translator = str.maketrans('', '', string.punctuation)\n",
    "pun_rem=[]\n",
    "for x in num_res:\n",
    "    temp=x.translate(translator)\n",
    "    pun_rem.append(temp)\n",
    "print(\"After Removal of Punctuations --> \\n\",pun_rem)"
   ]
  }
 ],
 "metadata": {
  "kernelspec": {
   "display_name": "Python 3",
   "language": "python",
   "name": "python3"
  },
  "language_info": {
   "codemirror_mode": {
    "name": "ipython",
    "version": 3
   },
   "file_extension": ".py",
   "mimetype": "text/x-python",
   "name": "python",
   "nbconvert_exporter": "python",
   "pygments_lexer": "ipython3",
   "version": "3.6.3"
  }
 },
 "nbformat": 4,
 "nbformat_minor": 2
}
